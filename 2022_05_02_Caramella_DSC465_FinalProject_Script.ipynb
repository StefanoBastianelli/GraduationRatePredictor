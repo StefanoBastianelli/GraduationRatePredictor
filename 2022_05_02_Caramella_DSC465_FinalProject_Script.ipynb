{
 "cells": [
  {
   "cell_type": "markdown",
   "id": "e373047b",
   "metadata": {},
   "source": [
    "# Graduation Rate Prediction\n",
    "## Derek Caramella\n",
    "## 2 May 2022"
   ]
  },
  {
   "cell_type": "markdown",
   "id": "ee3c2a63",
   "metadata": {},
   "source": [
    "# Table of Contents\n",
    "1. [Modules](#modules)\n",
    "    1. [Import Modules](#import-modules)\n",
    "2. [ETL](#etl)\n",
    "    1. [Preprocessing Graduation Rate DataFrame](#preprocess-graduation-rate)\n",
    "    2. [Preprocessing Accountability Status DataFrame](#preprocess-accountability-status)\n",
    "    3. [Preprocessing Expenditures DataFrame](#preprocess-expenditures)\n",
    "    4. [Preprocessing Inexperienced DataFrame](#preprocess-inexperienced)\n",
    "    5. [Preprocessing Institution Grouping DataFrame](#preprocess-institution)\n",
    "    6. [Preprocessing Teach Out of of Certification DataFrame](#preprocess-tech-out)\n",
    "    7. [Merge](#merge)\n",
    "2. [Descriptive Analysis](#descriptive-analysis)\n",
    "    1. [Descriptive Statistics](#descriptive-statistics)\n",
    "    2. [Graduation Rate Histogram](#grad-rate-hist)\n",
    "    3. [Funding per Student Boxenplot](#fund-per-student-boxen)\n",
    "    4. [Graduation Rate by Funding per Student](#grad-rate-fund-per-student)\n",
    "    5. [PCA](#pca)\n",
    "    6. [Teacher Representation](#teacher-representation)\n",
    "    7. [Overall Status - Pie Chart](#overall-status-pie)\n",
    "3. [Model Creation & Predicition](#model-creation-prediction)\n",
    "    1. [Train-Test Split](#train-test-split)\n",
    "    2. [Composite Model](#composite-model)\n",
    "    2. [Model Creation](#model-creation)\n",
    "    3. [Prediction](#prediction)\n",
    "    4. [Evaulation](#evaulation)"
   ]
  },
  {
   "cell_type": "markdown",
   "id": "3dbf5bba",
   "metadata": {},
   "source": [
    "# Modules\n",
    "<a class='anchor' id='modules'></a>"
   ]
  },
  {
   "cell_type": "markdown",
   "id": "eb6c019b",
   "metadata": {},
   "source": [
    "## Import Modules\n",
    "<a class='anchor' id='import-modules'></a>"
   ]
  },
  {
   "cell_type": "code",
   "execution_count": 1,
   "id": "df09a3c8",
   "metadata": {},
   "outputs": [],
   "source": [
    "import pandas as pd\n",
    "import numpy as np\n",
    "import seaborn as sns\n",
    "import matplotlib.pyplot as plt\n",
    "from mpl_toolkits.mplot3d import axes3d\n",
    "from matplotlib import colors\n",
    "\n",
    "from sklearn.decomposition import PCA\n",
    "from sklearn.model_selection import train_test_split\n",
    "from sklearn.preprocessing import MinMaxScaler, OneHotEncoder\n",
    "from sklearn.model_selection import GridSearchCV, RepeatedKFold\n",
    "from sklearn.linear_model import ElasticNet\n",
    "from sklearn.svm import SVR\n",
    "from sklearn.metrics import max_error, mean_absolute_error, mean_squared_error, median_absolute_error\n",
    "\n",
    "\n",
    "plt.rcParams['font.family'] = 'Times New Roman'  # Set plt shows font to Times New Roman"
   ]
  },
  {
   "cell_type": "markdown",
   "id": "b5a007e2",
   "metadata": {},
   "source": [
    "# ETL\n",
    "<a class='anchor' id='etl'></a>"
   ]
  },
  {
   "cell_type": "code",
   "execution_count": 2,
   "id": "437dff69",
   "metadata": {},
   "outputs": [],
   "source": [
    "graduation_rate_df = pd.read_excel(io='Data/RawData.xlsx', sheet_name='ACC HS Graduation Rate')\n",
    "account_status_df = pd.read_excel(io='Data/RawData.xlsx', sheet_name='Accountability Status')\n",
    "expenditures_df = pd.read_excel(io='Data/RawData.xlsx', sheet_name='Expenditures per Pupil')\n",
    "inexperienced_df = pd.read_excel(io='Data/RawData.xlsx', sheet_name='Inexperienced Teachers and Prin')\n",
    "institution_grouping_df = pd.read_excel(io='Data/RawData.xlsx', sheet_name='Institution Grouping')\n",
    "teach_out_of_cert_df = pd.read_excel(io='Data/RawData.xlsx', sheet_name='Teachers Teaching Out of Certif')"
   ]
  },
  {
   "cell_type": "markdown",
   "id": "4499109a",
   "metadata": {},
   "source": [
    "## Preprocessing Graduation Rate DataFrame\n",
    "<a class='anchor' id='preprocess-graduation-rate'></a>"
   ]
  },
  {
   "cell_type": "code",
   "execution_count": 3,
   "id": "0e38b71e",
   "metadata": {},
   "outputs": [
    {
     "data": {
      "text/html": [
       "<div>\n",
       "<style scoped>\n",
       "    .dataframe tbody tr th:only-of-type {\n",
       "        vertical-align: middle;\n",
       "    }\n",
       "\n",
       "    .dataframe tbody tr th {\n",
       "        vertical-align: top;\n",
       "    }\n",
       "\n",
       "    .dataframe thead th {\n",
       "        text-align: right;\n",
       "    }\n",
       "</style>\n",
       "<table border=\"1\" class=\"dataframe\">\n",
       "  <thead>\n",
       "    <tr style=\"text-align: right;\">\n",
       "      <th></th>\n",
       "      <th>INSTITUTION_ID</th>\n",
       "      <th>ENTITY_CD</th>\n",
       "      <th>ENTITY_NAME</th>\n",
       "      <th>YEAR</th>\n",
       "      <th>SUBGROUP_NAME</th>\n",
       "      <th>COHORT</th>\n",
       "      <th>COHORT_COUNT</th>\n",
       "      <th>GRAD_RATE</th>\n",
       "    </tr>\n",
       "  </thead>\n",
       "  <tbody>\n",
       "    <tr>\n",
       "      <th>79768</th>\n",
       "      <td>800000055729</td>\n",
       "      <td>10100010000</td>\n",
       "      <td>ALBANY CITY SCHOOL DISTRICT</td>\n",
       "      <td>2019</td>\n",
       "      <td>All Students</td>\n",
       "      <td>Combined</td>\n",
       "      <td>s</td>\n",
       "      <td>68.9</td>\n",
       "    </tr>\n",
       "    <tr>\n",
       "      <th>79804</th>\n",
       "      <td>800000055743</td>\n",
       "      <td>10100010034</td>\n",
       "      <td>ALBANY HIGH SCHOOL</td>\n",
       "      <td>2019</td>\n",
       "      <td>All Students</td>\n",
       "      <td>Combined</td>\n",
       "      <td>s</td>\n",
       "      <td>70.3</td>\n",
       "    </tr>\n",
       "    <tr>\n",
       "      <th>79851</th>\n",
       "      <td>800000059776</td>\n",
       "      <td>10100860907</td>\n",
       "      <td>GREEN TECH HIGH CHARTER SCHOOL</td>\n",
       "      <td>2019</td>\n",
       "      <td>All Students</td>\n",
       "      <td>Combined</td>\n",
       "      <td>s</td>\n",
       "      <td>93.3</td>\n",
       "    </tr>\n",
       "  </tbody>\n",
       "</table>\n",
       "</div>"
      ],
      "text/plain": [
       "       INSTITUTION_ID    ENTITY_CD                     ENTITY_NAME  YEAR  \\\n",
       "79768    800000055729  10100010000     ALBANY CITY SCHOOL DISTRICT  2019   \n",
       "79804    800000055743  10100010034              ALBANY HIGH SCHOOL  2019   \n",
       "79851    800000059776  10100860907  GREEN TECH HIGH CHARTER SCHOOL  2019   \n",
       "\n",
       "      SUBGROUP_NAME    COHORT COHORT_COUNT  GRAD_RATE  \n",
       "79768  All Students  Combined            s       68.9  \n",
       "79804  All Students  Combined            s       70.3  \n",
       "79851  All Students  Combined            s       93.3  "
      ]
     },
     "execution_count": 3,
     "metadata": {},
     "output_type": "execute_result"
    }
   ],
   "source": [
    "graduation_rate_df = graduation_rate_df[(graduation_rate_df['COHORT'] == 'Combined')\n",
    "                                        & \n",
    "                                        (graduation_rate_df['SUBGROUP_NAME' ]== 'All Students') \n",
    "                                        & \n",
    "                                        (graduation_rate_df['GRAD_RATE'] != 's')]\n",
    "graduation_rate_df['GRAD_RATE'] = graduation_rate_df['GRAD_RATE'].astype(float)\n",
    "graduation_rate_df = graduation_rate_df[graduation_rate_df['GRAD_RATE'] > 10]\n",
    "\n",
    "graduation_rate_df = graduation_rate_df[['INSTITUTION_ID', 'ENTITY_CD', 'ENTITY_NAME', 'YEAR', 'SUBGROUP_NAME',\n",
    "                                         'COHORT', 'COHORT_COUNT',\n",
    "                                         'GRAD_RATE']]\n",
    "graduation_rate_df.head(3)"
   ]
  },
  {
   "cell_type": "markdown",
   "id": "6f6435f1",
   "metadata": {},
   "source": [
    "## Preprocessing Accountability Status DataFrame\n",
    "<a class='anchor' id='preprocess-accountability-status'></a>"
   ]
  },
  {
   "cell_type": "code",
   "execution_count": 4,
   "id": "11625a89",
   "metadata": {},
   "outputs": [
    {
     "data": {
      "text/html": [
       "<div>\n",
       "<style scoped>\n",
       "    .dataframe tbody tr th:only-of-type {\n",
       "        vertical-align: middle;\n",
       "    }\n",
       "\n",
       "    .dataframe tbody tr th {\n",
       "        vertical-align: top;\n",
       "    }\n",
       "\n",
       "    .dataframe thead th {\n",
       "        text-align: right;\n",
       "    }\n",
       "</style>\n",
       "<table border=\"1\" class=\"dataframe\">\n",
       "  <thead>\n",
       "    <tr style=\"text-align: right;\">\n",
       "      <th></th>\n",
       "      <th>INSTITUTION_ID</th>\n",
       "      <th>ENTITY_CD</th>\n",
       "      <th>ENTITY_NAME</th>\n",
       "      <th>YEAR</th>\n",
       "      <th>OVERALL_STATUS</th>\n",
       "    </tr>\n",
       "  </thead>\n",
       "  <tbody>\n",
       "    <tr>\n",
       "      <th>0</th>\n",
       "      <td>800000055729</td>\n",
       "      <td>10100010000</td>\n",
       "      <td>ALBANY CITY SCHOOL DISTRICT</td>\n",
       "      <td>2020</td>\n",
       "      <td>Target District</td>\n",
       "    </tr>\n",
       "    <tr>\n",
       "      <th>1</th>\n",
       "      <td>800000055730</td>\n",
       "      <td>10100010014</td>\n",
       "      <td>MONTESSORI MAGNET SCHOOL</td>\n",
       "      <td>2020</td>\n",
       "      <td>Good Standing</td>\n",
       "    </tr>\n",
       "    <tr>\n",
       "      <th>2</th>\n",
       "      <td>800000055731</td>\n",
       "      <td>10100010016</td>\n",
       "      <td>PINE HILLS ELEMENTARY SCHOOL</td>\n",
       "      <td>2020</td>\n",
       "      <td>Good Standing</td>\n",
       "    </tr>\n",
       "  </tbody>\n",
       "</table>\n",
       "</div>"
      ],
      "text/plain": [
       "   INSTITUTION_ID    ENTITY_CD                   ENTITY_NAME  YEAR  \\\n",
       "0    800000055729  10100010000   ALBANY CITY SCHOOL DISTRICT  2020   \n",
       "1    800000055730  10100010014      MONTESSORI MAGNET SCHOOL  2020   \n",
       "2    800000055731  10100010016  PINE HILLS ELEMENTARY SCHOOL  2020   \n",
       "\n",
       "    OVERALL_STATUS  \n",
       "0  Target District  \n",
       "1    Good Standing  \n",
       "2    Good Standing  "
      ]
     },
     "execution_count": 4,
     "metadata": {},
     "output_type": "execute_result"
    }
   ],
   "source": [
    "account_status_df = account_status_df[['INSTITUTION_ID', 'ENTITY_CD', 'ENTITY_NAME', 'YEAR', 'OVERALL_STATUS']]\n",
    "account_status_df = account_status_df.dropna()\n",
    "account_status_df.head(3)"
   ]
  },
  {
   "cell_type": "markdown",
   "id": "c9bd09f0",
   "metadata": {},
   "source": [
    "## Preprocessing Expenditures DataFrame\n",
    "<a class='anchor' id='preprocess-expenditures'></a>"
   ]
  },
  {
   "cell_type": "code",
   "execution_count": 5,
   "id": "562949ab",
   "metadata": {},
   "outputs": [
    {
     "data": {
      "text/html": [
       "<div>\n",
       "<style scoped>\n",
       "    .dataframe tbody tr th:only-of-type {\n",
       "        vertical-align: middle;\n",
       "    }\n",
       "\n",
       "    .dataframe tbody tr th {\n",
       "        vertical-align: top;\n",
       "    }\n",
       "\n",
       "    .dataframe thead th {\n",
       "        text-align: right;\n",
       "    }\n",
       "</style>\n",
       "<table border=\"1\" class=\"dataframe\">\n",
       "  <thead>\n",
       "    <tr style=\"text-align: right;\">\n",
       "      <th></th>\n",
       "      <th>INSTITUTION_ID</th>\n",
       "      <th>ENTITY_CD</th>\n",
       "      <th>ENTITY_NAME</th>\n",
       "      <th>YEAR</th>\n",
       "      <th>PUPIL_COUNT_TOT</th>\n",
       "      <th>PER_FEDERAL_EXP</th>\n",
       "      <th>PER_STATE_LOCAL_EXP</th>\n",
       "      <th>PER_FED_STATE_LOCAL_EXP</th>\n",
       "    </tr>\n",
       "  </thead>\n",
       "  <tbody>\n",
       "    <tr>\n",
       "      <th>0</th>\n",
       "      <td>800000055479</td>\n",
       "      <td>10201040001</td>\n",
       "      <td>BERNE-KNOX-WESTERLO JUNIOR-SENIOR HIGH SCHOOL</td>\n",
       "      <td>2019</td>\n",
       "      <td>347</td>\n",
       "      <td>437</td>\n",
       "      <td>18507</td>\n",
       "      <td>18944</td>\n",
       "    </tr>\n",
       "    <tr>\n",
       "      <th>1</th>\n",
       "      <td>800000055480</td>\n",
       "      <td>10201040002</td>\n",
       "      <td>BERNE-KNOX-WESTERLO ELEMENTARY SCHOOL</td>\n",
       "      <td>2019</td>\n",
       "      <td>408</td>\n",
       "      <td>510</td>\n",
       "      <td>10873</td>\n",
       "      <td>11383</td>\n",
       "    </tr>\n",
       "    <tr>\n",
       "      <th>2</th>\n",
       "      <td>800000055452</td>\n",
       "      <td>10306060000</td>\n",
       "      <td>BETHLEHEM CENTRAL SCHOOL DISTRICT</td>\n",
       "      <td>2019</td>\n",
       "      <td>4440</td>\n",
       "      <td>259</td>\n",
       "      <td>16405</td>\n",
       "      <td>16664</td>\n",
       "    </tr>\n",
       "  </tbody>\n",
       "</table>\n",
       "</div>"
      ],
      "text/plain": [
       "   INSTITUTION_ID    ENTITY_CD                                    ENTITY_NAME  \\\n",
       "0    800000055479  10201040001  BERNE-KNOX-WESTERLO JUNIOR-SENIOR HIGH SCHOOL   \n",
       "1    800000055480  10201040002          BERNE-KNOX-WESTERLO ELEMENTARY SCHOOL   \n",
       "2    800000055452  10306060000              BETHLEHEM CENTRAL SCHOOL DISTRICT   \n",
       "\n",
       "   YEAR  PUPIL_COUNT_TOT  PER_FEDERAL_EXP  PER_STATE_LOCAL_EXP  \\\n",
       "0  2019              347              437                18507   \n",
       "1  2019              408              510                10873   \n",
       "2  2019             4440              259                16405   \n",
       "\n",
       "   PER_FED_STATE_LOCAL_EXP  \n",
       "0                    18944  \n",
       "1                    11383  \n",
       "2                    16664  "
      ]
     },
     "execution_count": 5,
     "metadata": {},
     "output_type": "execute_result"
    }
   ],
   "source": [
    "expenditures_df = expenditures_df[['INSTITUTION_ID', 'ENTITY_CD', 'ENTITY_NAME', 'YEAR', 'PUPIL_COUNT_TOT',\n",
    "                                   'PER_FEDERAL_EXP', 'PER_STATE_LOCAL_EXP', 'PER_FED_STATE_LOCAL_EXP']]\n",
    "expenditures_df.head(3)"
   ]
  },
  {
   "cell_type": "markdown",
   "id": "7c36addc",
   "metadata": {},
   "source": [
    "## Preprocessing Inexperienced DataFrame\n",
    "<a class='anchor' id='preprocess-inexperienced'></a>"
   ]
  },
  {
   "cell_type": "code",
   "execution_count": 6,
   "id": "3ab46ac1",
   "metadata": {},
   "outputs": [
    {
     "data": {
      "text/html": [
       "<div>\n",
       "<style scoped>\n",
       "    .dataframe tbody tr th:only-of-type {\n",
       "        vertical-align: middle;\n",
       "    }\n",
       "\n",
       "    .dataframe tbody tr th {\n",
       "        vertical-align: top;\n",
       "    }\n",
       "\n",
       "    .dataframe thead th {\n",
       "        text-align: right;\n",
       "    }\n",
       "</style>\n",
       "<table border=\"1\" class=\"dataframe\">\n",
       "  <thead>\n",
       "    <tr style=\"text-align: right;\">\n",
       "      <th></th>\n",
       "      <th>INSTITUTION_ID</th>\n",
       "      <th>ENTITY_CD</th>\n",
       "      <th>ENTITY_NAME</th>\n",
       "      <th>YEAR</th>\n",
       "      <th>NUM_TEACH</th>\n",
       "      <th>NUM_TEACH_INEXP</th>\n",
       "      <th>NUM_PRINC</th>\n",
       "      <th>NUM_PRINC_INEXP</th>\n",
       "    </tr>\n",
       "  </thead>\n",
       "  <tbody>\n",
       "    <tr>\n",
       "      <th>0</th>\n",
       "      <td>800000055729</td>\n",
       "      <td>10100010000</td>\n",
       "      <td>ALBANY CITY SCHOOL DISTRICT</td>\n",
       "      <td>2019</td>\n",
       "      <td>723.0</td>\n",
       "      <td>76.0</td>\n",
       "      <td>18.0</td>\n",
       "      <td>3.0</td>\n",
       "    </tr>\n",
       "    <tr>\n",
       "      <th>1</th>\n",
       "      <td>800000055730</td>\n",
       "      <td>10100010014</td>\n",
       "      <td>MONTESSORI MAGNET SCHOOL</td>\n",
       "      <td>2019</td>\n",
       "      <td>27.0</td>\n",
       "      <td>1.0</td>\n",
       "      <td>1.0</td>\n",
       "      <td>0.0</td>\n",
       "    </tr>\n",
       "    <tr>\n",
       "      <th>2</th>\n",
       "      <td>800000055731</td>\n",
       "      <td>10100010016</td>\n",
       "      <td>PINE HILLS ELEMENTARY SCHOOL</td>\n",
       "      <td>2019</td>\n",
       "      <td>27.0</td>\n",
       "      <td>1.0</td>\n",
       "      <td>2.0</td>\n",
       "      <td>1.0</td>\n",
       "    </tr>\n",
       "  </tbody>\n",
       "</table>\n",
       "</div>"
      ],
      "text/plain": [
       "   INSTITUTION_ID    ENTITY_CD                   ENTITY_NAME  YEAR  NUM_TEACH  \\\n",
       "0    800000055729  10100010000   ALBANY CITY SCHOOL DISTRICT  2019      723.0   \n",
       "1    800000055730  10100010014      MONTESSORI MAGNET SCHOOL  2019       27.0   \n",
       "2    800000055731  10100010016  PINE HILLS ELEMENTARY SCHOOL  2019       27.0   \n",
       "\n",
       "   NUM_TEACH_INEXP  NUM_PRINC  NUM_PRINC_INEXP  \n",
       "0             76.0       18.0              3.0  \n",
       "1              1.0        1.0              0.0  \n",
       "2              1.0        2.0              1.0  "
      ]
     },
     "execution_count": 6,
     "metadata": {},
     "output_type": "execute_result"
    }
   ],
   "source": [
    "inexperienced_df = inexperienced_df[['INSTITUTION_ID', 'ENTITY_CD', 'ENTITY_NAME', 'YEAR', \n",
    "                                     'NUM_TEACH', 'NUM_TEACH_INEXP',\n",
    "                                     'NUM_PRINC', 'NUM_PRINC_INEXP']]\n",
    "inexperienced_df = inexperienced_df.dropna()\n",
    "inexperienced_df.head(3)"
   ]
  },
  {
   "cell_type": "markdown",
   "id": "35676d0b",
   "metadata": {},
   "source": [
    "## Preprocessing Institution Grouping DataFrame\n",
    "<a class='anchor' id='preprocess-institution'></a>"
   ]
  },
  {
   "cell_type": "code",
   "execution_count": 7,
   "id": "8465831a",
   "metadata": {},
   "outputs": [
    {
     "data": {
      "text/html": [
       "<div>\n",
       "<style scoped>\n",
       "    .dataframe tbody tr th:only-of-type {\n",
       "        vertical-align: middle;\n",
       "    }\n",
       "\n",
       "    .dataframe tbody tr th {\n",
       "        vertical-align: top;\n",
       "    }\n",
       "\n",
       "    .dataframe thead th {\n",
       "        text-align: right;\n",
       "    }\n",
       "</style>\n",
       "<table border=\"1\" class=\"dataframe\">\n",
       "  <thead>\n",
       "    <tr style=\"text-align: right;\">\n",
       "      <th></th>\n",
       "      <th>INSTITUTION_ID</th>\n",
       "      <th>GROUP_CODE</th>\n",
       "      <th>GROUP_NAME</th>\n",
       "      <th>ENTITY_CD</th>\n",
       "      <th>ENTITY_NAME</th>\n",
       "    </tr>\n",
       "  </thead>\n",
       "  <tbody>\n",
       "    <tr>\n",
       "      <th>520</th>\n",
       "      <td>800000055730</td>\n",
       "      <td>6</td>\n",
       "      <td>Public School</td>\n",
       "      <td>10100010014</td>\n",
       "      <td>MONTESSORI MAGNET SCHOOL</td>\n",
       "    </tr>\n",
       "    <tr>\n",
       "      <th>521</th>\n",
       "      <td>800000055731</td>\n",
       "      <td>6</td>\n",
       "      <td>Public School</td>\n",
       "      <td>10100010016</td>\n",
       "      <td>PINE HILLS ELEMENTARY SCHOOL</td>\n",
       "    </tr>\n",
       "    <tr>\n",
       "      <th>522</th>\n",
       "      <td>800000055732</td>\n",
       "      <td>6</td>\n",
       "      <td>Public School</td>\n",
       "      <td>10100010018</td>\n",
       "      <td>DELAWARE COMMUNITY SCHOOL</td>\n",
       "    </tr>\n",
       "  </tbody>\n",
       "</table>\n",
       "</div>"
      ],
      "text/plain": [
       "    INSTITUTION_ID  GROUP_CODE     GROUP_NAME    ENTITY_CD  \\\n",
       "520   800000055730           6  Public School  10100010014   \n",
       "521   800000055731           6  Public School  10100010016   \n",
       "522   800000055732           6  Public School  10100010018   \n",
       "\n",
       "                      ENTITY_NAME  \n",
       "520      MONTESSORI MAGNET SCHOOL  \n",
       "521  PINE HILLS ELEMENTARY SCHOOL  \n",
       "522     DELAWARE COMMUNITY SCHOOL  "
      ]
     },
     "execution_count": 7,
     "metadata": {},
     "output_type": "execute_result"
    }
   ],
   "source": [
    "institution_grouping_df = institution_grouping_df[institution_grouping_df['GROUP_NAME'] == 'Public School']\n",
    "institution_grouping_df = institution_grouping_df.dropna()\n",
    "institution_grouping_df.head(3)"
   ]
  },
  {
   "cell_type": "markdown",
   "id": "b33f7cc4",
   "metadata": {},
   "source": [
    "## Preprocessing Teach Out of of Certification DataFrame\n",
    "<a class='anchor' id='preprocess-tech-out'></a>"
   ]
  },
  {
   "cell_type": "code",
   "execution_count": 8,
   "id": "dd4e9abd",
   "metadata": {},
   "outputs": [
    {
     "data": {
      "text/html": [
       "<div>\n",
       "<style scoped>\n",
       "    .dataframe tbody tr th:only-of-type {\n",
       "        vertical-align: middle;\n",
       "    }\n",
       "\n",
       "    .dataframe tbody tr th {\n",
       "        vertical-align: top;\n",
       "    }\n",
       "\n",
       "    .dataframe thead th {\n",
       "        text-align: right;\n",
       "    }\n",
       "</style>\n",
       "<table border=\"1\" class=\"dataframe\">\n",
       "  <thead>\n",
       "    <tr style=\"text-align: right;\">\n",
       "      <th></th>\n",
       "      <th>INSTITUTION_ID</th>\n",
       "      <th>ENTITY_CD</th>\n",
       "      <th>ENTITY_NAME</th>\n",
       "      <th>YEAR</th>\n",
       "      <th>NUM_TEACH_OC</th>\n",
       "      <th>NUM_OUT_CERT</th>\n",
       "    </tr>\n",
       "  </thead>\n",
       "  <tbody>\n",
       "    <tr>\n",
       "      <th>0</th>\n",
       "      <td>800000055729</td>\n",
       "      <td>10100010000</td>\n",
       "      <td>ALBANY CITY SCHOOL DISTRICT</td>\n",
       "      <td>2019</td>\n",
       "      <td>760.0</td>\n",
       "      <td>36.0</td>\n",
       "    </tr>\n",
       "    <tr>\n",
       "      <th>1</th>\n",
       "      <td>800000055730</td>\n",
       "      <td>10100010014</td>\n",
       "      <td>MONTESSORI MAGNET SCHOOL</td>\n",
       "      <td>2019</td>\n",
       "      <td>22.0</td>\n",
       "      <td>0.0</td>\n",
       "    </tr>\n",
       "    <tr>\n",
       "      <th>2</th>\n",
       "      <td>800000055731</td>\n",
       "      <td>10100010016</td>\n",
       "      <td>PINE HILLS ELEMENTARY SCHOOL</td>\n",
       "      <td>2019</td>\n",
       "      <td>24.0</td>\n",
       "      <td>0.0</td>\n",
       "    </tr>\n",
       "  </tbody>\n",
       "</table>\n",
       "</div>"
      ],
      "text/plain": [
       "   INSTITUTION_ID    ENTITY_CD                   ENTITY_NAME  YEAR  \\\n",
       "0    800000055729  10100010000   ALBANY CITY SCHOOL DISTRICT  2019   \n",
       "1    800000055730  10100010014      MONTESSORI MAGNET SCHOOL  2019   \n",
       "2    800000055731  10100010016  PINE HILLS ELEMENTARY SCHOOL  2019   \n",
       "\n",
       "   NUM_TEACH_OC  NUM_OUT_CERT  \n",
       "0         760.0          36.0  \n",
       "1          22.0           0.0  \n",
       "2          24.0           0.0  "
      ]
     },
     "execution_count": 8,
     "metadata": {},
     "output_type": "execute_result"
    }
   ],
   "source": [
    "teach_out_of_cert_df = teach_out_of_cert_df[['INSTITUTION_ID', 'ENTITY_CD', 'ENTITY_NAME', 'YEAR', \n",
    "                                             'NUM_TEACH_OC', 'NUM_OUT_CERT']]\n",
    "teach_out_of_cert_df = teach_out_of_cert_df.dropna()\n",
    "teach_out_of_cert_df.head(3)"
   ]
  },
  {
   "cell_type": "markdown",
   "id": "cb8c4d98",
   "metadata": {},
   "source": [
    "## Merge\n",
    "<a class='anchor' id='merge'></a>"
   ]
  },
  {
   "cell_type": "code",
   "execution_count": 9,
   "id": "0cd3e70d",
   "metadata": {},
   "outputs": [
    {
     "data": {
      "text/html": [
       "<div>\n",
       "<style scoped>\n",
       "    .dataframe tbody tr th:only-of-type {\n",
       "        vertical-align: middle;\n",
       "    }\n",
       "\n",
       "    .dataframe tbody tr th {\n",
       "        vertical-align: top;\n",
       "    }\n",
       "\n",
       "    .dataframe thead th {\n",
       "        text-align: right;\n",
       "    }\n",
       "</style>\n",
       "<table border=\"1\" class=\"dataframe\">\n",
       "  <thead>\n",
       "    <tr style=\"text-align: right;\">\n",
       "      <th></th>\n",
       "      <th>INSTITUTION_ID</th>\n",
       "      <th>ENTITY_CD</th>\n",
       "      <th>ENTITY_NAME</th>\n",
       "      <th>YEAR</th>\n",
       "      <th>COHORT_COUNT</th>\n",
       "      <th>GRAD_RATE</th>\n",
       "      <th>OVERALL_STATUS</th>\n",
       "      <th>PUPIL_COUNT_TOT</th>\n",
       "      <th>PER_FEDERAL_EXP</th>\n",
       "      <th>PER_STATE_LOCAL_EXP</th>\n",
       "      <th>PER_FED_STATE_LOCAL_EXP</th>\n",
       "      <th>NUM_TEACH</th>\n",
       "      <th>NUM_TEACH_INEXP</th>\n",
       "      <th>NUM_PRINC</th>\n",
       "      <th>NUM_PRINC_INEXP</th>\n",
       "      <th>GROUP_NAME</th>\n",
       "      <th>NUM_TEACH_OC</th>\n",
       "      <th>NUM_OUT_CERT</th>\n",
       "    </tr>\n",
       "  </thead>\n",
       "  <tbody>\n",
       "    <tr>\n",
       "      <th>0</th>\n",
       "      <td>800000055743</td>\n",
       "      <td>10100010034</td>\n",
       "      <td>ALBANY HIGH SCHOOL</td>\n",
       "      <td>2019</td>\n",
       "      <td>s</td>\n",
       "      <td>70.3</td>\n",
       "      <td>Good Standing</td>\n",
       "      <td>2548</td>\n",
       "      <td>309</td>\n",
       "      <td>12962</td>\n",
       "      <td>13272</td>\n",
       "      <td>210.0</td>\n",
       "      <td>30.0</td>\n",
       "      <td>1.0</td>\n",
       "      <td>1.0</td>\n",
       "      <td>Public School</td>\n",
       "      <td>171.0</td>\n",
       "      <td>14.0</td>\n",
       "    </tr>\n",
       "    <tr>\n",
       "      <th>1</th>\n",
       "      <td>800000059776</td>\n",
       "      <td>10100860907</td>\n",
       "      <td>GREEN TECH HIGH CHARTER SCHOOL</td>\n",
       "      <td>2019</td>\n",
       "      <td>s</td>\n",
       "      <td>93.3</td>\n",
       "      <td>Good Standing</td>\n",
       "      <td>338</td>\n",
       "      <td>453</td>\n",
       "      <td>14473</td>\n",
       "      <td>14926</td>\n",
       "      <td>36.0</td>\n",
       "      <td>4.0</td>\n",
       "      <td>1.0</td>\n",
       "      <td>1.0</td>\n",
       "      <td>Public School</td>\n",
       "      <td>27.0</td>\n",
       "      <td>13.0</td>\n",
       "    </tr>\n",
       "    <tr>\n",
       "      <th>2</th>\n",
       "      <td>800000068133</td>\n",
       "      <td>10100860960</td>\n",
       "      <td>ALBANY LEADERSHIP CHARTER HIGH SCHOOL FOR GIRLS</td>\n",
       "      <td>2019</td>\n",
       "      <td>s</td>\n",
       "      <td>82.4</td>\n",
       "      <td>Good Standing</td>\n",
       "      <td>353</td>\n",
       "      <td>814</td>\n",
       "      <td>14923</td>\n",
       "      <td>15737</td>\n",
       "      <td>40.0</td>\n",
       "      <td>14.0</td>\n",
       "      <td>2.0</td>\n",
       "      <td>2.0</td>\n",
       "      <td>Public School</td>\n",
       "      <td>33.0</td>\n",
       "      <td>20.0</td>\n",
       "    </tr>\n",
       "    <tr>\n",
       "      <th>3</th>\n",
       "      <td>800000055479</td>\n",
       "      <td>10201040001</td>\n",
       "      <td>BERNE-KNOX-WESTERLO JUNIOR-SENIOR HIGH SCHOOL</td>\n",
       "      <td>2019</td>\n",
       "      <td>s</td>\n",
       "      <td>94.5</td>\n",
       "      <td>Good Standing</td>\n",
       "      <td>347</td>\n",
       "      <td>437</td>\n",
       "      <td>18507</td>\n",
       "      <td>18944</td>\n",
       "      <td>45.0</td>\n",
       "      <td>7.0</td>\n",
       "      <td>1.0</td>\n",
       "      <td>0.0</td>\n",
       "      <td>Public School</td>\n",
       "      <td>43.0</td>\n",
       "      <td>1.0</td>\n",
       "    </tr>\n",
       "    <tr>\n",
       "      <th>4</th>\n",
       "      <td>800000055439</td>\n",
       "      <td>10306060008</td>\n",
       "      <td>BETHLEHEM CENTRAL SENIOR HIGH SCHOOL</td>\n",
       "      <td>2019</td>\n",
       "      <td>s</td>\n",
       "      <td>95.6</td>\n",
       "      <td>Good Standing</td>\n",
       "      <td>1559</td>\n",
       "      <td>120</td>\n",
       "      <td>11359</td>\n",
       "      <td>11479</td>\n",
       "      <td>120.0</td>\n",
       "      <td>14.0</td>\n",
       "      <td>1.0</td>\n",
       "      <td>1.0</td>\n",
       "      <td>Public School</td>\n",
       "      <td>107.0</td>\n",
       "      <td>0.0</td>\n",
       "    </tr>\n",
       "    <tr>\n",
       "      <th>5</th>\n",
       "      <td>800000055436</td>\n",
       "      <td>10402060001</td>\n",
       "      <td>RAVENA-COEYMANS-SELKIRK SENIOR HIGH SCHOOL</td>\n",
       "      <td>2019</td>\n",
       "      <td>s</td>\n",
       "      <td>88.2</td>\n",
       "      <td>Good Standing</td>\n",
       "      <td>557</td>\n",
       "      <td>357</td>\n",
       "      <td>13266</td>\n",
       "      <td>13623</td>\n",
       "      <td>58.0</td>\n",
       "      <td>6.0</td>\n",
       "      <td>1.0</td>\n",
       "      <td>0.0</td>\n",
       "      <td>Public School</td>\n",
       "      <td>56.0</td>\n",
       "      <td>1.0</td>\n",
       "    </tr>\n",
       "  </tbody>\n",
       "</table>\n",
       "</div>"
      ],
      "text/plain": [
       "   INSTITUTION_ID    ENTITY_CD  \\\n",
       "0    800000055743  10100010034   \n",
       "1    800000059776  10100860907   \n",
       "2    800000068133  10100860960   \n",
       "3    800000055479  10201040001   \n",
       "4    800000055439  10306060008   \n",
       "5    800000055436  10402060001   \n",
       "\n",
       "                                       ENTITY_NAME  YEAR COHORT_COUNT  \\\n",
       "0                               ALBANY HIGH SCHOOL  2019            s   \n",
       "1                   GREEN TECH HIGH CHARTER SCHOOL  2019            s   \n",
       "2  ALBANY LEADERSHIP CHARTER HIGH SCHOOL FOR GIRLS  2019            s   \n",
       "3    BERNE-KNOX-WESTERLO JUNIOR-SENIOR HIGH SCHOOL  2019            s   \n",
       "4             BETHLEHEM CENTRAL SENIOR HIGH SCHOOL  2019            s   \n",
       "5       RAVENA-COEYMANS-SELKIRK SENIOR HIGH SCHOOL  2019            s   \n",
       "\n",
       "   GRAD_RATE OVERALL_STATUS  PUPIL_COUNT_TOT  PER_FEDERAL_EXP  \\\n",
       "0       70.3  Good Standing             2548              309   \n",
       "1       93.3  Good Standing              338              453   \n",
       "2       82.4  Good Standing              353              814   \n",
       "3       94.5  Good Standing              347              437   \n",
       "4       95.6  Good Standing             1559              120   \n",
       "5       88.2  Good Standing              557              357   \n",
       "\n",
       "   PER_STATE_LOCAL_EXP  PER_FED_STATE_LOCAL_EXP  NUM_TEACH  NUM_TEACH_INEXP  \\\n",
       "0                12962                    13272      210.0             30.0   \n",
       "1                14473                    14926       36.0              4.0   \n",
       "2                14923                    15737       40.0             14.0   \n",
       "3                18507                    18944       45.0              7.0   \n",
       "4                11359                    11479      120.0             14.0   \n",
       "5                13266                    13623       58.0              6.0   \n",
       "\n",
       "   NUM_PRINC  NUM_PRINC_INEXP     GROUP_NAME  NUM_TEACH_OC  NUM_OUT_CERT  \n",
       "0        1.0              1.0  Public School         171.0          14.0  \n",
       "1        1.0              1.0  Public School          27.0          13.0  \n",
       "2        2.0              2.0  Public School          33.0          20.0  \n",
       "3        1.0              0.0  Public School          43.0           1.0  \n",
       "4        1.0              1.0  Public School         107.0           0.0  \n",
       "5        1.0              0.0  Public School          56.0           1.0  "
      ]
     },
     "execution_count": 9,
     "metadata": {},
     "output_type": "execute_result"
    }
   ],
   "source": [
    "model_df = pd.merge(graduation_rate_df, account_status_df, right_on=['ENTITY_CD', 'YEAR'], \n",
    "                    left_on=['ENTITY_CD', 'YEAR'], how='inner')\n",
    "model_df = pd.merge(model_df, expenditures_df, right_on=['ENTITY_CD', 'YEAR'], left_on=['ENTITY_CD', 'YEAR'],\n",
    "                    how='inner')\n",
    "model_df = pd.merge(model_df, inexperienced_df, right_on=['ENTITY_CD', 'YEAR'], left_on=['ENTITY_CD', 'YEAR'],\n",
    "                    how='inner')\n",
    "model_df = pd.merge(model_df, institution_grouping_df, right_on='ENTITY_CD', left_on='ENTITY_CD',\n",
    "                    how='inner')\n",
    "model_df = pd.merge(model_df, teach_out_of_cert_df, right_on=['ENTITY_CD', 'YEAR'], left_on=['ENTITY_CD', 'YEAR'],\n",
    "                    how='inner')\n",
    "\n",
    "model_df = model_df[['INSTITUTION_ID_x', 'ENTITY_CD', 'ENTITY_NAME_x', 'YEAR',\n",
    "                     'COHORT_COUNT', 'GRAD_RATE', 'OVERALL_STATUS',\n",
    "                     'PUPIL_COUNT_TOT', 'PER_FEDERAL_EXP', 'PER_STATE_LOCAL_EXP', 'PER_FED_STATE_LOCAL_EXP',\n",
    "                     'NUM_TEACH', 'NUM_TEACH_INEXP', 'NUM_PRINC', 'NUM_PRINC_INEXP',  \n",
    "                     'GROUP_NAME',\n",
    "                     'NUM_TEACH_OC', 'NUM_OUT_CERT']]\n",
    "model_df = model_df.loc[:, ~model_df.columns.duplicated()]  # Drop duplicate columns from join\n",
    "model_df = model_df.rename(columns={'INSTITUTION_ID_x': 'INSTITUTION_ID', 'ENTITY_NAME_x': 'ENTITY_NAME'})\n",
    "model_df.head(6)"
   ]
  },
  {
   "cell_type": "code",
   "execution_count": 10,
   "id": "cd3de6d3",
   "metadata": {},
   "outputs": [],
   "source": [
    "model_df['COHORT_COUNT'] = np.where(model_df['COHORT_COUNT'] == 's', model_df['PUPIL_COUNT_TOT'], model_df['COHORT_COUNT'])\n",
    "model_df['PUPIL_COUNT_TOT'] = np.where(model_df['PUPIL_COUNT_TOT'] == 's', model_df['COHORT_COUNT'], model_df['PUPIL_COUNT_TOT'])\n",
    "model_df['COHORT_COUNT'] = model_df[['COHORT_COUNT', 'PUPIL_COUNT_TOT']].max(axis=1)\n",
    "model_df = model_df.drop(['PUPIL_COUNT_TOT'], axis=1)\n",
    "model_df = model_df[model_df['COHORT_COUNT'] != 's']\n",
    "model_df = model_df.dropna(subset=['COHORT_COUNT'])\n",
    "\n",
    "\n",
    "model_df['NUM_TEACH'] = np.where(model_df['NUM_TEACH'] == 's', model_df['NUM_TEACH_OC'], model_df['NUM_TEACH'])\n",
    "model_df['NUM_TEACH_OC'] = np.where(model_df['NUM_TEACH_OC'] == 's', model_df['NUM_TEACH'], model_df['NUM_TEACH_OC'])\n",
    "model_df['NUM_TEACH'] = model_df[['NUM_TEACH', 'NUM_TEACH_OC']].max(axis=1)\n",
    "model_df = model_df.drop(['NUM_TEACH_OC'], axis=1)\n",
    "model_df = model_df[model_df['NUM_TEACH'] != 's']\n",
    "model_df = model_df.dropna(subset=['NUM_TEACH'])"
   ]
  },
  {
   "cell_type": "markdown",
   "id": "88e07b40",
   "metadata": {},
   "source": [
    "# Descriptive Analysis\n",
    "<a class='anchor' id='descriptive-analysis'></a>"
   ]
  },
  {
   "cell_type": "markdown",
   "id": "45a7d102",
   "metadata": {},
   "source": [
    "## Descriptive Statistics\n",
    "<a class='anchor' id='descriptive-statistics'></a>"
   ]
  },
  {
   "cell_type": "code",
   "execution_count": 11,
   "id": "ae6808b0",
   "metadata": {},
   "outputs": [
    {
     "data": {
      "text/html": [
       "<div>\n",
       "<style scoped>\n",
       "    .dataframe tbody tr th:only-of-type {\n",
       "        vertical-align: middle;\n",
       "    }\n",
       "\n",
       "    .dataframe tbody tr th {\n",
       "        vertical-align: top;\n",
       "    }\n",
       "\n",
       "    .dataframe thead th {\n",
       "        text-align: right;\n",
       "    }\n",
       "</style>\n",
       "<table border=\"1\" class=\"dataframe\">\n",
       "  <thead>\n",
       "    <tr style=\"text-align: right;\">\n",
       "      <th></th>\n",
       "      <th>COHORT_COUNT</th>\n",
       "      <th>GRAD_RATE</th>\n",
       "      <th>PER_FEDERAL_EXP</th>\n",
       "      <th>PER_STATE_LOCAL_EXP</th>\n",
       "      <th>PER_FED_STATE_LOCAL_EXP</th>\n",
       "      <th>NUM_TEACH</th>\n",
       "      <th>NUM_TEACH_INEXP</th>\n",
       "      <th>NUM_PRINC</th>\n",
       "      <th>NUM_PRINC_INEXP</th>\n",
       "      <th>NUM_OUT_CERT</th>\n",
       "    </tr>\n",
       "  </thead>\n",
       "  <tbody>\n",
       "    <tr>\n",
       "      <th>count</th>\n",
       "      <td>1187.000000</td>\n",
       "      <td>1187.000000</td>\n",
       "      <td>1187.000000</td>\n",
       "      <td>1187.000000</td>\n",
       "      <td>1187.000000</td>\n",
       "      <td>1187.000000</td>\n",
       "      <td>1187.000000</td>\n",
       "      <td>1187.000000</td>\n",
       "      <td>1187.000000</td>\n",
       "      <td>1187.000000</td>\n",
       "    </tr>\n",
       "    <tr>\n",
       "      <th>mean</th>\n",
       "      <td>724.443134</td>\n",
       "      <td>85.857793</td>\n",
       "      <td>698.782645</td>\n",
       "      <td>15577.673968</td>\n",
       "      <td>16276.420388</td>\n",
       "      <td>61.746420</td>\n",
       "      <td>9.422915</td>\n",
       "      <td>1.074979</td>\n",
       "      <td>0.295703</td>\n",
       "      <td>6.897220</td>\n",
       "    </tr>\n",
       "    <tr>\n",
       "      <th>std</th>\n",
       "      <td>642.899353</td>\n",
       "      <td>14.871498</td>\n",
       "      <td>592.168741</td>\n",
       "      <td>4364.967214</td>\n",
       "      <td>4459.052714</td>\n",
       "      <td>43.386773</td>\n",
       "      <td>8.819613</td>\n",
       "      <td>0.432966</td>\n",
       "      <td>0.517166</td>\n",
       "      <td>10.389524</td>\n",
       "    </tr>\n",
       "    <tr>\n",
       "      <th>min</th>\n",
       "      <td>30.000000</td>\n",
       "      <td>12.800000</td>\n",
       "      <td>0.000000</td>\n",
       "      <td>0.000000</td>\n",
       "      <td>12.000000</td>\n",
       "      <td>4.000000</td>\n",
       "      <td>0.000000</td>\n",
       "      <td>0.000000</td>\n",
       "      <td>0.000000</td>\n",
       "      <td>0.000000</td>\n",
       "    </tr>\n",
       "    <tr>\n",
       "      <th>25%</th>\n",
       "      <td>341.000000</td>\n",
       "      <td>81.650000</td>\n",
       "      <td>252.500000</td>\n",
       "      <td>12859.000000</td>\n",
       "      <td>13440.500000</td>\n",
       "      <td>33.000000</td>\n",
       "      <td>4.000000</td>\n",
       "      <td>1.000000</td>\n",
       "      <td>0.000000</td>\n",
       "      <td>1.000000</td>\n",
       "    </tr>\n",
       "    <tr>\n",
       "      <th>50%</th>\n",
       "      <td>495.000000</td>\n",
       "      <td>90.800000</td>\n",
       "      <td>581.000000</td>\n",
       "      <td>14978.000000</td>\n",
       "      <td>15759.000000</td>\n",
       "      <td>45.000000</td>\n",
       "      <td>7.000000</td>\n",
       "      <td>1.000000</td>\n",
       "      <td>0.000000</td>\n",
       "      <td>3.000000</td>\n",
       "    </tr>\n",
       "    <tr>\n",
       "      <th>75%</th>\n",
       "      <td>917.500000</td>\n",
       "      <td>95.500000</td>\n",
       "      <td>989.000000</td>\n",
       "      <td>17607.500000</td>\n",
       "      <td>18471.500000</td>\n",
       "      <td>79.000000</td>\n",
       "      <td>12.000000</td>\n",
       "      <td>1.000000</td>\n",
       "      <td>1.000000</td>\n",
       "      <td>9.000000</td>\n",
       "    </tr>\n",
       "    <tr>\n",
       "      <th>max</th>\n",
       "      <td>5942.000000</td>\n",
       "      <td>100.000000</td>\n",
       "      <td>5548.000000</td>\n",
       "      <td>44081.000000</td>\n",
       "      <td>44348.000000</td>\n",
       "      <td>319.000000</td>\n",
       "      <td>70.000000</td>\n",
       "      <td>5.000000</td>\n",
       "      <td>4.000000</td>\n",
       "      <td>80.000000</td>\n",
       "    </tr>\n",
       "  </tbody>\n",
       "</table>\n",
       "</div>"
      ],
      "text/plain": [
       "       COHORT_COUNT    GRAD_RATE  PER_FEDERAL_EXP  PER_STATE_LOCAL_EXP  \\\n",
       "count   1187.000000  1187.000000      1187.000000          1187.000000   \n",
       "mean     724.443134    85.857793       698.782645         15577.673968   \n",
       "std      642.899353    14.871498       592.168741          4364.967214   \n",
       "min       30.000000    12.800000         0.000000             0.000000   \n",
       "25%      341.000000    81.650000       252.500000         12859.000000   \n",
       "50%      495.000000    90.800000       581.000000         14978.000000   \n",
       "75%      917.500000    95.500000       989.000000         17607.500000   \n",
       "max     5942.000000   100.000000      5548.000000         44081.000000   \n",
       "\n",
       "       PER_FED_STATE_LOCAL_EXP    NUM_TEACH  NUM_TEACH_INEXP    NUM_PRINC  \\\n",
       "count              1187.000000  1187.000000      1187.000000  1187.000000   \n",
       "mean              16276.420388    61.746420         9.422915     1.074979   \n",
       "std                4459.052714    43.386773         8.819613     0.432966   \n",
       "min                  12.000000     4.000000         0.000000     0.000000   \n",
       "25%               13440.500000    33.000000         4.000000     1.000000   \n",
       "50%               15759.000000    45.000000         7.000000     1.000000   \n",
       "75%               18471.500000    79.000000        12.000000     1.000000   \n",
       "max               44348.000000   319.000000        70.000000     5.000000   \n",
       "\n",
       "       NUM_PRINC_INEXP  NUM_OUT_CERT  \n",
       "count      1187.000000   1187.000000  \n",
       "mean          0.295703      6.897220  \n",
       "std           0.517166     10.389524  \n",
       "min           0.000000      0.000000  \n",
       "25%           0.000000      1.000000  \n",
       "50%           0.000000      3.000000  \n",
       "75%           1.000000      9.000000  \n",
       "max           4.000000     80.000000  "
      ]
     },
     "execution_count": 11,
     "metadata": {},
     "output_type": "execute_result"
    }
   ],
   "source": [
    "model_df.loc[:, ~model_df.columns.isin(['INSTITUTION_ID', 'ENTITY_CD', 'YEAR', 'OVERALL_STATUS'])].describe()"
   ]
  },
  {
   "cell_type": "markdown",
   "id": "f45141d5",
   "metadata": {},
   "source": [
    "## Graduation Rate Histogram\n",
    "<a class='anchor' id='grad-rate-hist'></a>"
   ]
  },
  {
   "cell_type": "code",
   "execution_count": 12,
   "id": "2663572c",
   "metadata": {},
   "outputs": [
    {
     "data": {
      "image/png": "[encoded data removed]",
      "text/plain": [
       "<Figure size 432x288 with 1 Axes>"
      ]
     },
     "metadata": {
      "needs_background": "light"
     },
     "output_type": "display_data"
    }
   ],
   "source": [
    "fig, ax = plt.subplots()\n",
    "\n",
    "model_df['GRAD_RATE'].plot.kde(bw_method=0.1, \n",
    "                               ax=ax, legend=False, color='red',\n",
    "                               title='Graduation Rate: Kernel Density Plot')\n",
    "model_df['GRAD_RATE'].hist(edgecolor='#00008b', color='#ADD8E6', bins=20, density=True, ax=ax)\n",
    "ax.set_ylabel('Probability')\n",
    "ax.set_xlabel('Graduation Rate')\n",
    "ax.set_xlim([0, 100])\n",
    "ax.grid(axis='y')\n",
    "\n",
    "plt.show()"
   ]
  },
  {
   "cell_type": "markdown",
   "id": "3470ae0a",
   "metadata": {},
   "source": [
    "## Funding per Student Boxenplot\n",
    "<a class='anchor' id='fund-per-student-boxen'></a>"
   ]
  },
  {
   "cell_type": "code",
   "execution_count": 13,
   "id": "cd366aab",
   "metadata": {},
   "outputs": [
    {
     "data": {
      "image/png": "[encoded data removed]",
      "text/plain": [
       "<Figure size 432x288 with 1 Axes>"
      ]
     },
     "metadata": {
      "needs_background": "light"
     },
     "output_type": "display_data"
    }
   ],
   "source": [
    "boxenplot_df = model_df.copy()[['PER_FEDERAL_EXP', 'PER_STATE_LOCAL_EXP', 'PER_FED_STATE_LOCAL_EXP']]\n",
    "boxenplot_df = pd.melt(boxenplot_df)\n",
    "\n",
    "boxen_plot_labels_dict = {'PER_FEDERAL_EXP': 'Federal', \n",
    "                          'PER_STATE_LOCAL_EXP': 'State',\n",
    "                          'PER_FED_STATE_LOCAL_EXP': 'Local'}\n",
    "boxenplot_df['variable'] = boxenplot_df['variable'].map(boxen_plot_labels_dict)\n",
    "\n",
    "\n",
    "fig, ax = plt.subplots()\n",
    "sns.boxenplot(data=boxenplot_df, x='value', y='variable', ax=ax)\n",
    "ax.set_ylabel('Source Funding per Student')\n",
    "ax.set_xlabel('American Dollars (USD$)')\n",
    "ax.set_title('Per Student Funding from Municipalities')\n",
    "plt.show()"
   ]
  },
  {
   "cell_type": "markdown",
   "id": "bd510d74",
   "metadata": {},
   "source": [
    "## Graduation Rate by Funding per Student\n",
    "<a class='anchor' id='grad-rate-fund-per-student'></a>"
   ]
  },
  {
   "cell_type": "code",
   "execution_count": 14,
   "id": "5a76d514",
   "metadata": {},
   "outputs": [
    {
     "data": {
      "image/png": "[encoded data removed]",
      "text/plain": [
       "<Figure size 432x288 with 1 Axes>"
      ]
     },
     "metadata": {
      "needs_background": "light"
     },
     "output_type": "display_data"
    }
   ],
   "source": [
    "fig, ax = plt.subplots()\n",
    "ax.scatter(x=model_df[['PER_FEDERAL_EXP', 'PER_STATE_LOCAL_EXP', 'PER_FED_STATE_LOCAL_EXP']].sum(axis=1), \n",
    "           y=model_df['GRAD_RATE'], \n",
    "           edgecolor='#00008b', color='#ADD8E6')\n",
    "ax.set_ylabel('Graduation Rate')\n",
    "ax.set_xlabel('Total Expenditure per Student')\n",
    "ax.set_title('Graduation Rate by Total Expenditure per Student')\n",
    "\n",
    "plt.show()"
   ]
  },
  {
   "cell_type": "markdown",
   "id": "5a302302",
   "metadata": {},
   "source": [
    "## PCA\n",
    "<a class='anchor' id='pca'></a>"
   ]
  },
  {
   "cell_type": "code",
   "execution_count": 15,
   "id": "0a2c487b",
   "metadata": {},
   "outputs": [
    {
     "data": {
      "image/png": "[encoded data removed]",
      "text/plain": [
       "<Figure size 432x288 with 1 Axes>"
      ]
     },
     "metadata": {
      "needs_background": "light"
     },
     "output_type": "display_data"
    },
    {
     "name": "stdout",
     "output_type": "stream",
     "text": [
      "PCA Explained Variance: 0.529\n"
     ]
    }
   ],
   "source": [
    "fig_PCA = PCA(n_components=2)\n",
    "pca_minmax_enc = MinMaxScaler()\n",
    "pca_minmaxed_data = pca_minmax_enc.fit_transform(model_df[['COHORT_COUNT', 'GRAD_RATE', 'PER_FEDERAL_EXP', \n",
    "                                                           'PER_STATE_LOCAL_EXP', 'PER_FED_STATE_LOCAL_EXP',\n",
    "                                                           'NUM_TEACH', 'NUM_TEACH_INEXP', 'NUM_PRINC',\n",
    "                                                           'NUM_PRINC_INEXP', 'NUM_OUT_CERT']])\n",
    "pca_processed_matrix = fig_PCA.fit_transform(pca_minmaxed_data)\n",
    "\n",
    "fig = plt.figure()\n",
    "ax = fig.add_subplot(projection='3d')\n",
    "ax.scatter(pca_processed_matrix[:, 0],\n",
    "           pca_processed_matrix[:, 1],\n",
    "           model_df['GRAD_RATE'],\n",
    "           edgecolor='#00008b', color='#ADD8E6',\n",
    "           marker='x')\n",
    "\n",
    "ax.set_xlabel('PCA Dimension 1')\n",
    "ax.set_ylabel('PCA Dimension 2')\n",
    "ax.set_zlabel('Graduation Rate')\n",
    "ax.set_title('PCA Graduation Rate')\n",
    "\n",
    "plt.show()\n",
    "print(f'PCA Explained Variance: {np.round(fig_PCA.explained_variance_ratio_.sum(), 3)}')"
   ]
  },
  {
   "cell_type": "markdown",
   "id": "2ce439ec",
   "metadata": {},
   "source": [
    "## Overall Status - Pie Chart \n",
    "<a class='anchor' id='overall-status-pie'></a>"
   ]
  },
  {
   "cell_type": "code",
   "execution_count": 16,
   "id": "7b7fd978",
   "metadata": {},
   "outputs": [
    {
     "data": {
      "image/png": "[encoded data removed]",
      "text/plain": [
       "<Figure size 432x288 with 1 Axes>"
      ]
     },
     "metadata": {},
     "output_type": "display_data"
    }
   ],
   "source": [
    "overall_status_df = model_df.copy()[['OVERALL_STATUS']]\n",
    "overall_status_df['Representation'] = 1\n",
    "\n",
    "overall_status_df = overall_status_df.groupby('OVERALL_STATUS', as_index=False).sum()\n",
    "overall_status_df = overall_status_df.rename(columns={'OVERALL_STATUS': 'Institutional Standing'})\n",
    "\n",
    "\n",
    "fig, ax = plt.subplots()\n",
    "ax.pie(labels=overall_status_df['Institutional Standing'], \n",
    "       x=overall_status_df['Representation'],\n",
    "       autopct='%1.1f%%', explode=[0, 0, 0.1], \n",
    "       colors=['#ffcccb', '#90EE90', '#ADD8E6'], shadow=True)\n",
    "\n",
    "ax.set_title('Institutional Standing')\n",
    "\n",
    "plt.show()"
   ]
  },
  {
   "cell_type": "markdown",
   "id": "37bdfed1",
   "metadata": {},
   "source": [
    "## Teacher Representation\n",
    "<a class='anchor' id='teacher-representation'></a>"
   ]
  },
  {
   "cell_type": "code",
   "execution_count": 17,
   "id": "b13b3988",
   "metadata": {},
   "outputs": [
    {
     "data": {
      "image/png": "[encoded data removed]",
      "text/plain": [
       "<Figure size 576x216 with 2 Axes>"
      ]
     },
     "metadata": {
      "needs_background": "light"
     },
     "output_type": "display_data"
    }
   ],
   "source": [
    "fig, (ax1, ax2) = plt.subplots(1, 2, figsize=(8, 3), tight_layout=True)\n",
    "\n",
    "(model_df['COHORT_COUNT']/model_df['NUM_TEACH']).plot.kde(bw_method=0.1, \n",
    "                               ax=ax1, legend=False, color='red',\n",
    "                               title='Number of Students per Teacher')\n",
    "(model_df['COHORT_COUNT']/model_df['NUM_TEACH']).hist(edgecolor='#00008b', color='#ADD8E6', bins=20, \n",
    "                                                      density=True, ax=ax1)\n",
    "ax1.set_ylabel('Probability')\n",
    "ax1.set_xlabel('Number of Students per Teacher')\n",
    "ax1.set_xlim([0, 30])\n",
    "ax1.grid()\n",
    "\n",
    "(model_df['NUM_OUT_CERT']/model_df['NUM_TEACH']).plot.kde(bw_method=0.1, \n",
    "                               ax=ax2, legend=False, color='red',\n",
    "                               title='Percentage of Uncertified Teachers')\n",
    "((model_df['NUM_OUT_CERT']/model_df['NUM_TEACH'])).hist(edgecolor='#00008b', color='#ADD8E6', bins=20, \n",
    "                                                      density=True, ax=ax2)\n",
    "ax2.set_ylabel('Probability')\n",
    "ax2.set_xlabel('Percentage of Uncertified Teachers')\n",
    "ax2.set_xlim([0, 1])\n",
    "ax2.grid()\n",
    "\n",
    "\n",
    "plt.show()"
   ]
  },
  {
   "cell_type": "markdown",
   "id": "7d3b0aef",
   "metadata": {},
   "source": [
    "# Model Creation & Predicition\n",
    "<a class='anchor' id='model-creation-prediction'></a>"
   ]
  },
  {
   "cell_type": "markdown",
   "id": "ec1f70ae",
   "metadata": {},
   "source": [
    "## Train-Test Split\n",
    "<a class='anchor' id='train-test-split'></a>"
   ]
  },
  {
   "cell_type": "code",
   "execution_count": 18,
   "id": "da049a9d",
   "metadata": {},
   "outputs": [],
   "source": [
    "X = model_df.loc[:, model_df.columns != 'GRAD_RATE']\n",
    "y = model_df['GRAD_RATE']"
   ]
  },
  {
   "cell_type": "code",
   "execution_count": 19,
   "id": "3aff57bf",
   "metadata": {},
   "outputs": [],
   "source": [
    "X_train, X_test, y_train, y_test = train_test_split(X, y, test_size=0.3, random_state=255)"
   ]
  },
  {
   "cell_type": "markdown",
   "id": "3d181694",
   "metadata": {},
   "source": [
    "## Composite Model\n",
    "<a class='anchor' id='composite-model'></a>"
   ]
  },
  {
   "cell_type": "code",
   "execution_count": 20,
   "id": "4b08f9e5",
   "metadata": {},
   "outputs": [],
   "source": [
    "class compositeModel:\n",
    "    def __init__(self, sklearn_model):\n",
    "        self.clf = sklearn_model\n",
    "        self.scalers_trained = False\n",
    "        self.model_trained = False\n",
    "        \n",
    "    def _train_scalers(self, x):\n",
    "        self.clf_scaler = MinMaxScaler()\n",
    "        self.clf_scaler.fit(x[['COHORT_COUNT', 'PER_FEDERAL_EXP', 'PER_STATE_LOCAL_EXP', 'PER_FED_STATE_LOCAL_EXP',\n",
    "                               'TeachersPerPupil', 'InexpTeachersPerPupil', 'InexpTeachersPerTeacher', \n",
    "                               'PrincipalsperPupil', 'InexpPrincipalsPerPupil', 'InexpPrincipalsPerPrincipal',\n",
    "                               'OutofCertTeachersPerPupil', 'OutofCertTeachersPerTeacher']])\n",
    "        self.overall_status_one_hot_enc = OneHotEncoder()\n",
    "        self.overall_status_one_hot_enc.fit(x[['OVERALL_STATUS']].to_numpy())\n",
    "        self.scalers_trained = True\n",
    "    \n",
    "    def _x_preprocessing(self, x, training=True):\n",
    "        try:\n",
    "            x[['OVERALL_STATUS', 'COHORT_COUNT',\n",
    "               'PER_FEDERAL_EXP', 'PER_STATE_LOCAL_EXP', 'PER_FED_STATE_LOCAL_EXP',\n",
    "               'NUM_TEACH', 'NUM_TEACH_INEXP', \n",
    "               'NUM_PRINC', 'NUM_PRINC_INEXP',\n",
    "               'GROUP_NAME', 'NUM_OUT_CERT']]\n",
    "        except KeyError:\n",
    "            print('Incorrect dependent variables.')\n",
    "            return False\n",
    "        \n",
    "        # Feature Engineering\n",
    "        x['TeachersPerPupil'] = x['NUM_TEACH']/x['COHORT_COUNT']\n",
    "        x['InexpTeachersPerPupil'] = x['NUM_TEACH_INEXP']/x['COHORT_COUNT']\n",
    "        x['InexpTeachersPerTeacher'] = x['NUM_TEACH_INEXP']/x['NUM_TEACH']\n",
    "        \n",
    "        x['PrincipalsperPupil'] = x['NUM_PRINC']/x['COHORT_COUNT']\n",
    "        x['InexpPrincipalsPerPupil'] = x['NUM_TEACH_INEXP']/x['COHORT_COUNT']\n",
    "        x['InexpPrincipalsPerPrincipal'] = x['NUM_PRINC_INEXP']/x['NUM_PRINC']\n",
    "        x['OutofCertTeachersPerPupil'] = x['NUM_OUT_CERT']/x['COHORT_COUNT']\n",
    "        x['OutofCertTeachersPerTeacher'] = x['NUM_OUT_CERT']/x['NUM_TEACH']\n",
    "        \n",
    "        x = x.replace(np.inf, 1)\n",
    "        x = x.replace(np.NINF, 0)\n",
    "        \n",
    "        x = x.fillna(0)  # THIS NEEDS TO FIXED!!!!!\n",
    "        \n",
    "        features_minmax_scaled = ['COHORT_COUNT', 'PER_FEDERAL_EXP', 'PER_STATE_LOCAL_EXP',\n",
    "                                  'PER_FED_STATE_LOCAL_EXP', 'TeachersPerPupil', 'InexpTeachersPerPupil', \n",
    "                                  'InexpTeachersPerTeacher', 'PrincipalsperPupil', 'InexpPrincipalsPerPupil',\n",
    "                                  'InexpPrincipalsPerPrincipal', 'OutofCertTeachersPerPupil', \n",
    "                                  'OutofCertTeachersPerTeacher']\n",
    "        features_onehot_encoded = ['OVERALL_STATUS']\n",
    "        features_to_be_scaled = [features_minmax_scaled, features_onehot_encoded]\n",
    "        features_to_be_scaled = [item for sublist in features_to_be_scaled for item in sublist]\n",
    "        \n",
    "        if training:\n",
    "            self._train_scalers(x[features_to_be_scaled])\n",
    "                            \n",
    "        x[features_minmax_scaled] = self.clf_scaler.transform(x[features_minmax_scaled]) \n",
    "        x[self.overall_status_one_hot_enc.categories_[0].tolist()] = self.overall_status_one_hot_enc.transform(x[['OVERALL_STATUS']].to_numpy()).toarray()\n",
    "        \n",
    "        preprocessed_features = [features_minmax_scaled, \n",
    "                                 self.overall_status_one_hot_enc.categories_[0].tolist()]\n",
    "        preprocessed_features = [item for sublist in preprocessed_features for item in sublist]\n",
    "        \n",
    "        return x[preprocessed_features]\n",
    "    \n",
    "    def fit(self, x_train, y_train):\n",
    "        x_train = self._x_preprocessing(x_train, training=True)\n",
    "        self.clf.fit(X=x_train, y=y_train)\n",
    "        self.model_trained = True\n",
    "        return self.clf\n",
    "    \n",
    "    def predict(self, x_test):\n",
    "        if not self.model_trained:\n",
    "            print('Train the model.')\n",
    "            return False\n",
    "        x_test = self._x_preprocessing(x_test, training=False)\n",
    "        predictions = self.clf.predict(x_test)\n",
    "        return predictions"
   ]
  },
  {
   "cell_type": "markdown",
   "id": "d3ee500e",
   "metadata": {},
   "source": [
    "## Model Creation\n",
    "<a class='anchor' id='model-creation'></a>"
   ]
  },
  {
   "cell_type": "code",
   "execution_count": 21,
   "id": "4888033d",
   "metadata": {},
   "outputs": [],
   "source": [
    "cv = RepeatedKFold(n_splits=5, n_repeats=5, random_state=1)"
   ]
  },
  {
   "cell_type": "code",
   "execution_count": 22,
   "id": "ca2221d0",
   "metadata": {},
   "outputs": [],
   "source": [
    "# Elastic Net\n",
    "grid_params = {\n",
    "    'alpha': [1e-5, 1e-4, 1e-3, 1e-2, 1e-1, 0.0, 1.0, 10.0, 100.0],\n",
    "    'l1_ratio': np.arange(0, 1, 0.01)\n",
    "}\n",
    "grid_model = GridSearchCV(ElasticNet(), grid_params, scoring='neg_median_absolute_error', cv=cv, n_jobs=-1)"
   ]
  },
  {
   "cell_type": "code",
   "execution_count": 23,
   "id": "2168b7bd",
   "metadata": {},
   "outputs": [],
   "source": [
    "# SVR\n",
    "grid_params = {\n",
    "    'kernel': ['linear', 'poly', 'rbf'],\n",
    "    'degree': np.arange(3, 7, 1),\n",
    "    'C': np.arange(0.0001, 1, 0.01)\n",
    "}\n",
    "grid_model = GridSearchCV(SVR(), grid_params, scoring='neg_median_absolute_error', cv=cv, n_jobs=-1)"
   ]
  },
  {
   "cell_type": "code",
   "execution_count": 24,
   "id": "d3ea9cd6",
   "metadata": {},
   "outputs": [],
   "source": [
    "model = compositeModel(sklearn_model=grid_model)"
   ]
  },
  {
   "cell_type": "code",
   "execution_count": 25,
   "id": "892004c9",
   "metadata": {},
   "outputs": [
    {
     "data": {
      "text/plain": [
       "GridSearchCV(cv=RepeatedKFold(n_repeats=5, n_splits=5, random_state=1),\n",
       "             estimator=SVR(), n_jobs=-1,\n",
       "             param_grid={'C': array([1.000e-04, 1.010e-02, 2.010e-02, 3.010e-02, 4.010e-02, 5.010e-02,\n",
       "       6.010e-02, 7.010e-02, 8.010e-02, 9.010e-02, 1.001e-01, 1.101e-01,\n",
       "       1.201e-01, 1.301e-01, 1.401e-01, 1.501e-01, 1.601e-01, 1.701e-01,\n",
       "       1.801e-01, 1.901e-01, 2.001e-01, 2.101e-01, 2.201e-01, 2....\n",
       "       7.201e-01, 7.301e-01, 7.401e-01, 7.501e-01, 7.601e-01, 7.701e-01,\n",
       "       7.801e-01, 7.901e-01, 8.001e-01, 8.101e-01, 8.201e-01, 8.301e-01,\n",
       "       8.401e-01, 8.501e-01, 8.601e-01, 8.701e-01, 8.801e-01, 8.901e-01,\n",
       "       9.001e-01, 9.101e-01, 9.201e-01, 9.301e-01, 9.401e-01, 9.501e-01,\n",
       "       9.601e-01, 9.701e-01, 9.801e-01, 9.901e-01]),\n",
       "                         'degree': array([3, 4, 5, 6]),\n",
       "                         'kernel': ['linear', 'poly', 'rbf']},\n",
       "             scoring='neg_median_absolute_error')"
      ]
     },
     "execution_count": 25,
     "metadata": {},
     "output_type": "execute_result"
    }
   ],
   "source": [
    "model.fit(X_train, y_train)"
   ]
  },
  {
   "cell_type": "code",
   "execution_count": 26,
   "id": "19c4976b",
   "metadata": {},
   "outputs": [
    {
     "data": {
      "text/plain": [
       "SVR(C=0.9501000000000001, degree=5, kernel='poly')"
      ]
     },
     "execution_count": 26,
     "metadata": {},
     "output_type": "execute_result"
    }
   ],
   "source": [
    "model.clf.best_estimator_"
   ]
  },
  {
   "cell_type": "markdown",
   "id": "60b4f03b",
   "metadata": {},
   "source": [
    "## Prediction\n",
    "<a class='anchor' id='prediction'></a>"
   ]
  },
  {
   "cell_type": "code",
   "execution_count": 28,
   "id": "398dc7b6",
   "metadata": {},
   "outputs": [],
   "source": [
    "predictions = model.predict(X_test)"
   ]
  },
  {
   "cell_type": "markdown",
   "id": "73733751",
   "metadata": {},
   "source": [
    "## Evaulation\n",
    "<a class='anchor' id='evaulation'></a>"
   ]
  },
  {
   "cell_type": "code",
   "execution_count": 29,
   "id": "31ea53b3",
   "metadata": {},
   "outputs": [
    {
     "name": "stdout",
     "output_type": "stream",
     "text": [
      "Max Error: 71.629\n",
      "Mean Absolute Error: 6.661\n",
      "Mean Squared Error: 126.275\n",
      "Median Squared Error: 3.908\n"
     ]
    }
   ],
   "source": [
    "predictions_max_error = max_error(y_true=y_test, y_pred=predictions)\n",
    "predictions_mean_absolute_error = mean_absolute_error(y_true=y_test, y_pred=predictions)\n",
    "predictions_mean_squared_error = mean_squared_error(y_true=y_test, y_pred=predictions)\n",
    "predictions_median_absolute_error = median_absolute_error(y_true=y_test, y_pred=predictions)\n",
    "\n",
    "print(f'Max Error: {round(predictions_max_error, 3)}')\n",
    "print(f'Mean Absolute Error: {round(predictions_mean_absolute_error, 3)}')\n",
    "print(f'Mean Squared Error: {round(predictions_mean_squared_error, 3)}')\n",
    "print(f'Median Squared Error: {round(predictions_median_absolute_error, 3)}')"
   ]
  }
 ],
 "metadata": {
  "kernelspec": {
   "display_name": "Python 3 (ipykernel)",
   "language": "python",
   "name": "python3"
  },
  "language_info": {
   "codemirror_mode": {
    "name": "ipython",
    "version": 3
   },
   "file_extension": ".py",
   "mimetype": "text/x-python",
   "name": "python",
   "nbconvert_exporter": "python",
   "pygments_lexer": "ipython3",
   "version": "3.8.8"
  }
 },
 "nbformat": 4,
 "nbformat_minor": 5
}
